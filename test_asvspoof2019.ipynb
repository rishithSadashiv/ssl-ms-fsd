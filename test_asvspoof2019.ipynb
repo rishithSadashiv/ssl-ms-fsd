{
 "cells": [
  {
   "cell_type": "code",
   "execution_count": 1,
   "metadata": {},
   "outputs": [],
   "source": [
    "import numpy as np\n",
    "import torch\n",
    "from torch import Tensor\n",
    "from torch.utils.data import DataLoader\n",
    "from model5 import Model\n",
    "# from model3 import Model\n",
    "# from model4 import Model\n",
    "# from model5 import Model\n",
    "# from model6 import Model\n",
    "# from model7 import Model\n",
    "from core_scripts.startup_config import set_random_seed\n",
    "import random\n",
    "from torch.utils.data import Dataset\n",
    "import soundfile as sf\n",
    "from evaluation import calculate_tDCF_EER"
   ]
  },
  {
   "cell_type": "code",
   "execution_count": 2,
   "metadata": {},
   "outputs": [],
   "source": [
    "def pad(x, max_len=64600):\n",
    "    x_len = x.shape[0]\n",
    "    if x_len >= max_len:\n",
    "        return x[:max_len]\n",
    "    # need to pad\n",
    "    num_repeats = int(max_len / x_len) + 1\n",
    "    padded_x = np.tile(x, (1, num_repeats))[:, :max_len][0]\n",
    "    return padded_x\n",
    "\n",
    "\n",
    "def pad_random(x: np.ndarray, max_len: int = 64600):\n",
    "    x_len = x.shape[0]\n",
    "    # if duration is already long enough\n",
    "    if x_len >= max_len:\n",
    "        stt = np.random.randint(x_len - max_len)\n",
    "        return x[stt:stt + max_len]\n",
    "\n",
    "    # if too short\n",
    "    num_repeats = int(max_len / x_len) + 1\n",
    "    padded_x = np.tile(x, (num_repeats))[:max_len]\n",
    "    return padded_x"
   ]
  },
  {
   "cell_type": "code",
   "execution_count": 3,
   "metadata": {},
   "outputs": [],
   "source": [
    "def genSpoof_list(dir_meta, is_train=False, is_eval=False):\n",
    "\n",
    "    d_meta = {}\n",
    "    file_list = []\n",
    "    with open(dir_meta, \"r\") as f:\n",
    "        l_meta = f.readlines()\n",
    "\n",
    "    if is_train:\n",
    "        for line in l_meta:\n",
    "            _, key, _, _, label = line.strip().split(\" \")\n",
    "            file_list.append(key)\n",
    "            d_meta[key] = 1 if label == \"bonafide\" else 0\n",
    "        return d_meta, file_list\n",
    "\n",
    "    elif is_eval:\n",
    "        for line in l_meta:\n",
    "            _, key, _, _, _ = line.strip().split(\" \")\n",
    "            #key = line.strip()\n",
    "            file_list.append(key)\n",
    "        return file_list\n",
    "    else:\n",
    "        for line in l_meta:\n",
    "            _, key, _, _, label = line.strip().split(\" \")\n",
    "            file_list.append(key)\n",
    "            d_meta[key] = 1 if label == \"bonafide\" else 0\n",
    "        return d_meta, file_list\n"
   ]
  },
  {
   "cell_type": "code",
   "execution_count": 4,
   "metadata": {},
   "outputs": [],
   "source": [
    "# class Dataset_ASVspoof2019_devNeval(Dataset):\n",
    "#     def __init__(self, list_IDs, base_dir):\n",
    "#         \"\"\"self.list_IDs\t: list of strings (each string: utt key),\n",
    "#         \"\"\"\n",
    "#         self.list_IDs = list_IDs\n",
    "#         self.base_dir = base_dir\n",
    "#         self.cut = 64600  # take ~4 sec audio (64600 samples)\n",
    "\n",
    "#     def __len__(self):\n",
    "#         return len(self.list_IDs)\n",
    "\n",
    "#     def __getitem__(self, index):\n",
    "#         key = self.list_IDs[index]\n",
    "#         X, _ = sf.read(str(self.base_dir + f\"flac/{key}.flac\"))\n",
    "#         X_pad = pad(X, self.cut)\n",
    "#         x_inp = Tensor(X_pad)\n",
    "#         return x_inp, key\n",
    "    \n",
    "from data_utils_SSL import getMsValues\n",
    "class Dataset_ASVspoof2019_devNeval(Dataset):\n",
    "    def __init__(self, list_IDs, base_dir):\n",
    "        \"\"\"self.list_IDs\t: list of strings (each string: utt key),\n",
    "        \"\"\"\n",
    "        self.list_IDs = list_IDs\n",
    "        self.base_dir = base_dir\n",
    "        self.cut = 64600  # take ~4 sec audio (64600 samples)\n",
    "\n",
    "    def __len__(self):\n",
    "        return len(self.list_IDs)\n",
    "\n",
    "    def __getitem__(self, index):\n",
    "        key = self.list_IDs[index]\n",
    "        X, _ = sf.read(str(self.base_dir + f\"flac/{key}.flac\"))\n",
    "        X_pad = pad(X, self.cut)\n",
    "        x_inp = Tensor(X_pad)\n",
    "        ms_dict = getMsValues(X_pad, 16000)\n",
    "        ms = ms_dict['power_modulation_spectrogram'][:, :, 0]\n",
    "        ms_tensor = Tensor(ms)\n",
    "        return x_inp, key, ms_tensor"
   ]
  },
  {
   "cell_type": "code",
   "execution_count": 5,
   "metadata": {},
   "outputs": [],
   "source": [
    "class Arguments():\n",
    "    database_path = \"/DATA/nfsshare/rishith/datasets/asvSpoof2019/DS_10283_3336/LA/\"\n",
    "    protocols_path = \"database/\"\n",
    "    seed = 1234\n",
    "    track = \"LA\"\n",
    "    is_eval = True\n",
    "    cudnn_deterministic_toggle = True\n",
    "    cudnn_benchmark_toggle = False\n",
    "    # model_path = \"/DATA/Rishith/SSL_Anti-spoofing/models_mlaad/model_LA_WCE_100_14_1e-06/epoch_99.pth\"\n",
    "    # model_path = \"/DATA/Rishith/SSL_Anti-spoofing/models_combined/model_LA_WCE_100_32_1e-06/epoch_70.pth\"\n",
    "    # model_path = \"/DATA/Rishith/SSL_Anti-spoofing/models3_msAdd/model_LA_WCE_100_24_1e-06/epoch_32.pth\"\n",
    "    # model_path = \"/DATA/Rishith/SSL_Anti-spoofing/models5_msFusion_hdim256/model_LA_WCE_100_14_1e-06/epoch_51.pth\"\n",
    "    # model_path = \"/DATA/Rishith/SSL_Anti-spoofing/models5_msFusion_hdim256_mlaad/model_LA_WCE_100_14_1e-06/epoch_99.pth\"\n",
    "    # model_path = \"/DATA/Rishith/SSL_Anti-spoofing/models5_msFusion_hdim256_combined/model_LA_WCE_100_24_1e-06/epoch_25.pth\"\n",
    "    # model_path = \"/DATA/Rishith/SSL_Anti-spoofing/models5_msFusion_hdim256_combined/model_LA_WCE_100_24_1e-06/epoch_99.pth\"\n",
    "    # model_path = \"/DATA/Rishith/Abhishek/SSL_Anti-spoofing/pretrained_models/LA_model.pth\"\n",
    "\n",
    "    ## running combined model - 70th epoch\n",
    "    model_path = \"/DATA/Rishith/Abhishek/SSL_Anti-spoofing/models_seed=10(fusion)/model_LA_WCE_100_14_1e-06/epoch_32.pth\"\n",
    "    \n",
    "    \n",
    "args = Arguments()"
   ]
  },
  {
   "cell_type": "code",
   "execution_count": 6,
   "metadata": {},
   "outputs": [],
   "source": [
    "set_random_seed(args.seed, args)"
   ]
  },
  {
   "cell_type": "code",
   "execution_count": 7,
   "metadata": {},
   "outputs": [
    {
     "name": "stdout",
     "output_type": "stream",
     "text": [
      "Device: cuda\n",
      "nb_params: 318287562\n",
      "Model loaded : /DATA/Rishith/Abhishek/SSL_Anti-spoofing/models_seed=10(fusion)/model_LA_WCE_100_14_1e-06/epoch_32.pth\n"
     ]
    }
   ],
   "source": [
    "track = args.track\n",
    "prefix      = 'ASVspoof_{}'.format(track)\n",
    "prefix_2019 = 'ASVspoof2019.{}'.format(track)\n",
    "prefix_2021 = 'ASVspoof2021.{}'.format(track)\n",
    "\n",
    "device = 'cuda' if torch.cuda.is_available() else 'cpu'                  \n",
    "print('Device: {}'.format(device))\n",
    "\n",
    "model = Model(args,device)\n",
    "nb_params = sum([param.view(-1).size()[0] for param in model.parameters()])\n",
    "model =model.to(device)\n",
    "print('nb_params:',nb_params)\n",
    "\n",
    "if args.model_path:\n",
    "    model.load_state_dict(torch.load(args.model_path,map_location=device))\n",
    "    print('Model loaded : {}'.format(args.model_path))"
   ]
  },
  {
   "cell_type": "code",
   "execution_count": 8,
   "metadata": {},
   "outputs": [
    {
     "data": {
      "text/plain": [
       "'/DATA/nfsshare/rishith/datasets/asvSpoof2019/DS_10283_3336/LA/'"
      ]
     },
     "execution_count": 8,
     "metadata": {},
     "output_type": "execute_result"
    }
   ],
   "source": [
    "args.database_path"
   ]
  },
  {
   "cell_type": "code",
   "execution_count": 9,
   "metadata": {},
   "outputs": [],
   "source": [
    "# eval_database_path = args.database_path + \"ASVspoof2019_{}_eval/\".format(track)\n",
    "# # eval_score_path = \"eval_CM_scores_file_SSL_mlaadModel_epoch70_LA2019.txt\"\n",
    "# eval_score_path = \"scores_output/eval_CM_scores_file_SSL_msFusion_hdim256_epoch51_LA2019.txt\"\n",
    "# # print(\"Start evaluation...\")\n",
    "\n",
    "# eval_trial_path = args.database_path+\"ASVspoof2019_{}_cm_protocols/{}.cm.eval.trl.txt\".format(\n",
    "#             track, prefix_2019)\n",
    "\n",
    "# file_eval = genSpoof_list(dir_meta=eval_trial_path,\n",
    "#                               is_train=False,\n",
    "#                               is_eval=True)\n",
    "# eval_set = Dataset_ASVspoof2019_devNeval_ms(list_IDs=file_eval,\n",
    "#                                             base_dir=eval_database_path)\n",
    "# eval_loader = DataLoader(eval_set,\n",
    "#                             batch_size=24,\n",
    "#                             shuffle=False,\n",
    "#                             drop_last=False,\n",
    "#                             pin_memory=True)"
   ]
  },
  {
   "cell_type": "code",
   "execution_count": 10,
   "metadata": {},
   "outputs": [],
   "source": [
    "eval_database_path = args.database_path + \"ASVspoof2019_{}_eval/\".format(track)\n",
    "# eval_score_path = \"eval_CM_scores_file_SSL_mlaadModel_epoch70_LA2019.txt\"\n",
    "# eval_score_path = \"eval_new/eval_scores_pretrained_LA2019.txt\"\n",
    "\n",
    "## combined 70th epoch results\n",
    "eval_score_path = \"/DATA/Rishith/Abhishek/SSL_Anti-spoofing/testing_results/my_trained/my_trained_test_epoch32_a_new_fusion.txt\"\n",
    "\n",
    "# eval_score_path = \"scores_output/eval_CM_scores_file_SSL_msFusion_hdim256_epoch51_LA2019_new.txt\"\n",
    "# eval_score_path = \"scores_output/asvspoof2019_trainset.txt\"\n",
    "# print(\"Start evaluation...\")\n",
    "\n",
    "eval_trial_path = args.database_path+\"ASVspoof2019_{}_cm_protocols/{}.cm.eval.trl.txt\".format(\n",
    "            track, prefix_2019)\n",
    "\n",
    "file_eval = genSpoof_list(dir_meta=eval_trial_path,\n",
    "                              is_train=False,\n",
    "                              is_eval=True)\n",
    "eval_set = Dataset_ASVspoof2019_devNeval(list_IDs=file_eval,\n",
    "                                            base_dir=eval_database_path)\n",
    "eval_loader = DataLoader(eval_set,\n",
    "                            batch_size=24,\n",
    "                            # batch_size=1,\n",
    "                            shuffle=False,\n",
    "                            drop_last=False,\n",
    "                            pin_memory=True)"
   ]
  },
  {
   "cell_type": "code",
   "execution_count": 11,
   "metadata": {},
   "outputs": [],
   "source": [
    "def produce_evaluation_file_ms(\n",
    "    data_loader: DataLoader,\n",
    "    model,\n",
    "    device: torch.device,\n",
    "    save_path: str,\n",
    "    trial_path: str) -> None:\n",
    "    \"\"\"Perform evaluation and save the score to a file\"\"\"\n",
    "    model.eval()\n",
    "    with open(trial_path, \"r\") as f_trl:\n",
    "        trial_lines = f_trl.readlines()\n",
    "    fname_list = []\n",
    "    score_list = []\n",
    "    for batch_x, utt_id, ms in data_loader:\n",
    "        batch_x = batch_x.to(device)\n",
    "        ms = ms.to(device)\n",
    "        with torch.no_grad():\n",
    "            batch_out = model(batch_x, ms)\n",
    "            batch_score = (batch_out[:, 1]).data.cpu().numpy().ravel()\n",
    "        # add outputs\n",
    "        fname_list.extend(utt_id)\n",
    "        score_list.extend(batch_score.tolist())\n",
    "\n",
    "    assert len(trial_lines) == len(fname_list) == len(score_list)\n",
    "    with open(save_path, \"w\") as fh:\n",
    "        for fn, sco, trl in zip(fname_list, score_list, trial_lines):\n",
    "            _, utt_id, _, src, key = trl.strip().split(' ')\n",
    "            assert fn == utt_id\n",
    "            fh.write(\"{} {} {} {}\\n\".format(utt_id, src, key, sco))\n",
    "    print(\"Scores saved to {}\".format(save_path))\n"
   ]
  },
  {
   "cell_type": "code",
   "execution_count": 12,
   "metadata": {},
   "outputs": [
    {
     "data": {
      "text/plain": [
       "'/DATA/Rishith/Abhishek/SSL_Anti-spoofing/testing_results/my_trained/my_trained_test_epoch32_a_new_fusion.txt'"
      ]
     },
     "execution_count": 12,
     "metadata": {},
     "output_type": "execute_result"
    }
   ],
   "source": [
    "eval_score_path"
   ]
  },
  {
   "cell_type": "code",
   "execution_count": 13,
   "metadata": {},
   "outputs": [
    {
     "name": "stdout",
     "output_type": "stream",
     "text": [
      "Scores saved to /DATA/Rishith/Abhishek/SSL_Anti-spoofing/testing_results/my_trained/my_trained_test_epoch32_a_new_fusion.txt\n"
     ]
    }
   ],
   "source": [
    "\n",
    "produce_evaluation_file_ms(eval_loader, model, device,\n",
    "                        eval_score_path, eval_trial_path)"
   ]
  },
  {
   "cell_type": "code",
   "execution_count": 14,
   "metadata": {},
   "outputs": [
    {
     "name": "stdout",
     "output_type": "stream",
     "text": [
      "\n",
      "CM SYSTEM\n",
      "\tEER\t\t= 0.231406218 % (Equal error rate for countermeasure)\n",
      "\n",
      "TANDEM\n",
      "\tmin-tDCF\t\t= 0.007411373\n",
      "\n",
      "BREAKDOWN CM SYSTEM\n",
      "\tEER A07\t\t= 0.040744310 % (Equal error rate for A07\n",
      "\tEER A08\t\t= 0.162977240 % (Equal error rate for A08\n",
      "\tEER A09\t\t= 0.000000000 % (Equal error rate for A09\n",
      "\tEER A10\t\t= 0.203721550 % (Equal error rate for A10\n",
      "\tEER A11\t\t= 0.146004133 % (Equal error rate for A11\n",
      "\tEER A12\t\t= 0.098461727 % (Equal error rate for A12\n",
      "\tEER A13\t\t= 0.000000000 % (Equal error rate for A13\n",
      "\tEER A14\t\t= 0.023771203 % (Equal error rate for A14\n",
      "\tEER A15\t\t= 0.040744310 % (Equal error rate for A15\n",
      "\tEER A16\t\t= 0.057717417 % (Equal error rate for A16\n",
      "\tEER A17\t\t= 0.285210170 % (Equal error rate for A17\n",
      "\tEER A18\t\t= 0.937119129 % (Equal error rate for A18\n",
      "\tEER A19\t\t= 0.325954480 % (Equal error rate for A19\n"
     ]
    }
   ],
   "source": [
    "from evaluation import calculate_tDCF_EER\n",
    "import os\n",
    "\n",
    "asv_scores_file = \"ASVspoof2019_LA_asv_scores/ASVspoof2019.LA.asv.eval.gi.trl.scores.txt\"\n",
    "eval_eer, eval_tdcf = calculate_tDCF_EER(\n",
    "            cm_scores_file=eval_score_path,\n",
    "            asv_score_file=args.database_path + asv_scores_file,\n",
    "            output_file=\"testing_results/my_trained/my_trained_test_epoch32_a_new_fusion.txt\")"
   ]
  },
  {
   "cell_type": "code",
   "execution_count": null,
   "metadata": {},
   "outputs": [],
   "source": []
  },
  {
   "cell_type": "code",
   "execution_count": null,
   "metadata": {},
   "outputs": [],
   "source": []
  },
  {
   "cell_type": "code",
   "execution_count": null,
   "metadata": {},
   "outputs": [],
   "source": []
  },
  {
   "cell_type": "code",
   "execution_count": 15,
   "metadata": {},
   "outputs": [],
   "source": [
    "import numpy as np\n",
    "from evaluation import compute_eer"
   ]
  },
  {
   "cell_type": "code",
   "execution_count": 16,
   "metadata": {},
   "outputs": [
    {
     "ename": "OSError",
     "evalue": "scores_output/eval_CM_scores_file_SSL_msFusion_hdim256_epoch51_LA2019.txt not found.",
     "output_type": "error",
     "traceback": [
      "\u001b[0;31m---------------------------------------------------------------------------\u001b[0m",
      "\u001b[0;31mOSError\u001b[0m                                   Traceback (most recent call last)",
      "\u001b[0;32m/tmp/ipykernel_1176936/1255700557.py\u001b[0m in \u001b[0;36m<module>\u001b[0;34m\u001b[0m\n\u001b[1;32m      3\u001b[0m \u001b[0;31m# eval_score_path = \"scores_output/asvspoof2019_trainset.txt\"\u001b[0m\u001b[0;34m\u001b[0m\u001b[0;34m\u001b[0m\u001b[0;34m\u001b[0m\u001b[0m\n\u001b[1;32m      4\u001b[0m \u001b[0meval_score_path\u001b[0m \u001b[0;34m=\u001b[0m \u001b[0meval_score_path\u001b[0m\u001b[0;34m\u001b[0m\u001b[0;34m\u001b[0m\u001b[0m\n\u001b[0;32m----> 5\u001b[0;31m \u001b[0mcm_data\u001b[0m \u001b[0;34m=\u001b[0m \u001b[0mnp\u001b[0m\u001b[0;34m.\u001b[0m\u001b[0mgenfromtxt\u001b[0m\u001b[0;34m(\u001b[0m\u001b[0meval_score_path\u001b[0m\u001b[0;34m,\u001b[0m \u001b[0mdtype\u001b[0m\u001b[0;34m=\u001b[0m\u001b[0mstr\u001b[0m\u001b[0;34m)\u001b[0m\u001b[0;34m\u001b[0m\u001b[0;34m\u001b[0m\u001b[0m\n\u001b[0m\u001b[1;32m      6\u001b[0m \u001b[0;31m# cm_utt_id = cm_data[:, 0]\u001b[0m\u001b[0;34m\u001b[0m\u001b[0;34m\u001b[0m\u001b[0;34m\u001b[0m\u001b[0m\n\u001b[1;32m      7\u001b[0m \u001b[0;31m# cm_sources = cm_data[:, 1]\u001b[0m\u001b[0;34m\u001b[0m\u001b[0;34m\u001b[0m\u001b[0;34m\u001b[0m\u001b[0m\n",
      "\u001b[0;32m/DATA/anaconda3/envs/spoof/lib/python3.7/site-packages/numpy/lib/npyio.py\u001b[0m in \u001b[0;36mgenfromtxt\u001b[0;34m(fname, dtype, comments, delimiter, skip_header, skip_footer, converters, missing_values, filling_values, usecols, names, excludelist, deletechars, replace_space, autostrip, case_sensitive, defaultfmt, unpack, usemask, loose, invalid_raise, max_rows, encoding, like)\u001b[0m\n\u001b[1;32m   1791\u001b[0m             \u001b[0mfname\u001b[0m \u001b[0;34m=\u001b[0m \u001b[0mos_fspath\u001b[0m\u001b[0;34m(\u001b[0m\u001b[0mfname\u001b[0m\u001b[0;34m)\u001b[0m\u001b[0;34m\u001b[0m\u001b[0;34m\u001b[0m\u001b[0m\n\u001b[1;32m   1792\u001b[0m         \u001b[0;32mif\u001b[0m \u001b[0misinstance\u001b[0m\u001b[0;34m(\u001b[0m\u001b[0mfname\u001b[0m\u001b[0;34m,\u001b[0m \u001b[0mstr\u001b[0m\u001b[0;34m)\u001b[0m\u001b[0;34m:\u001b[0m\u001b[0;34m\u001b[0m\u001b[0;34m\u001b[0m\u001b[0m\n\u001b[0;32m-> 1793\u001b[0;31m             \u001b[0mfid\u001b[0m \u001b[0;34m=\u001b[0m \u001b[0mnp\u001b[0m\u001b[0;34m.\u001b[0m\u001b[0mlib\u001b[0m\u001b[0;34m.\u001b[0m\u001b[0m_datasource\u001b[0m\u001b[0;34m.\u001b[0m\u001b[0mopen\u001b[0m\u001b[0;34m(\u001b[0m\u001b[0mfname\u001b[0m\u001b[0;34m,\u001b[0m \u001b[0;34m'rt'\u001b[0m\u001b[0;34m,\u001b[0m \u001b[0mencoding\u001b[0m\u001b[0;34m=\u001b[0m\u001b[0mencoding\u001b[0m\u001b[0;34m)\u001b[0m\u001b[0;34m\u001b[0m\u001b[0;34m\u001b[0m\u001b[0m\n\u001b[0m\u001b[1;32m   1794\u001b[0m             \u001b[0mfid_ctx\u001b[0m \u001b[0;34m=\u001b[0m \u001b[0mcontextlib\u001b[0m\u001b[0;34m.\u001b[0m\u001b[0mclosing\u001b[0m\u001b[0;34m(\u001b[0m\u001b[0mfid\u001b[0m\u001b[0;34m)\u001b[0m\u001b[0;34m\u001b[0m\u001b[0;34m\u001b[0m\u001b[0m\n\u001b[1;32m   1795\u001b[0m         \u001b[0;32melse\u001b[0m\u001b[0;34m:\u001b[0m\u001b[0;34m\u001b[0m\u001b[0;34m\u001b[0m\u001b[0m\n",
      "\u001b[0;32m/DATA/anaconda3/envs/spoof/lib/python3.7/site-packages/numpy/lib/_datasource.py\u001b[0m in \u001b[0;36mopen\u001b[0;34m(path, mode, destpath, encoding, newline)\u001b[0m\n\u001b[1;32m    191\u001b[0m \u001b[0;34m\u001b[0m\u001b[0m\n\u001b[1;32m    192\u001b[0m     \u001b[0mds\u001b[0m \u001b[0;34m=\u001b[0m \u001b[0mDataSource\u001b[0m\u001b[0;34m(\u001b[0m\u001b[0mdestpath\u001b[0m\u001b[0;34m)\u001b[0m\u001b[0;34m\u001b[0m\u001b[0;34m\u001b[0m\u001b[0m\n\u001b[0;32m--> 193\u001b[0;31m     \u001b[0;32mreturn\u001b[0m \u001b[0mds\u001b[0m\u001b[0;34m.\u001b[0m\u001b[0mopen\u001b[0m\u001b[0;34m(\u001b[0m\u001b[0mpath\u001b[0m\u001b[0;34m,\u001b[0m \u001b[0mmode\u001b[0m\u001b[0;34m,\u001b[0m \u001b[0mencoding\u001b[0m\u001b[0;34m=\u001b[0m\u001b[0mencoding\u001b[0m\u001b[0;34m,\u001b[0m \u001b[0mnewline\u001b[0m\u001b[0;34m=\u001b[0m\u001b[0mnewline\u001b[0m\u001b[0;34m)\u001b[0m\u001b[0;34m\u001b[0m\u001b[0;34m\u001b[0m\u001b[0m\n\u001b[0m\u001b[1;32m    194\u001b[0m \u001b[0;34m\u001b[0m\u001b[0m\n\u001b[1;32m    195\u001b[0m \u001b[0;34m\u001b[0m\u001b[0m\n",
      "\u001b[0;32m/DATA/anaconda3/envs/spoof/lib/python3.7/site-packages/numpy/lib/_datasource.py\u001b[0m in \u001b[0;36mopen\u001b[0;34m(self, path, mode, encoding, newline)\u001b[0m\n\u001b[1;32m    531\u001b[0m                                       encoding=encoding, newline=newline)\n\u001b[1;32m    532\u001b[0m         \u001b[0;32melse\u001b[0m\u001b[0;34m:\u001b[0m\u001b[0;34m\u001b[0m\u001b[0;34m\u001b[0m\u001b[0m\n\u001b[0;32m--> 533\u001b[0;31m             \u001b[0;32mraise\u001b[0m \u001b[0mIOError\u001b[0m\u001b[0;34m(\u001b[0m\u001b[0;34m\"%s not found.\"\u001b[0m \u001b[0;34m%\u001b[0m \u001b[0mpath\u001b[0m\u001b[0;34m)\u001b[0m\u001b[0;34m\u001b[0m\u001b[0;34m\u001b[0m\u001b[0m\n\u001b[0m\u001b[1;32m    534\u001b[0m \u001b[0;34m\u001b[0m\u001b[0m\n\u001b[1;32m    535\u001b[0m \u001b[0;34m\u001b[0m\u001b[0m\n",
      "\u001b[0;31mOSError\u001b[0m: scores_output/eval_CM_scores_file_SSL_msFusion_hdim256_epoch51_LA2019.txt not found."
     ]
    }
   ],
   "source": [
    "# Load CM scores\n",
    "eval_score_path = \"scores_output/eval_CM_scores_file_SSL_msFusion_hdim256_epoch51_LA2019.txt\"\n",
    "# eval_score_path = \"scores_output/asvspoof2019_trainset.txt\"\n",
    "eval_score_path = eval_score_path\n",
    "cm_data = np.genfromtxt(eval_score_path, dtype=str)\n",
    "# cm_utt_id = cm_data[:, 0]\n",
    "# cm_sources = cm_data[:, 1]\n",
    "\n",
    "cm_keys = cm_data[:, 2]\n",
    "cm_scores = cm_data[:, 3].astype(float)\n",
    "bona_cm = cm_scores[cm_keys == 'bonafide']\n",
    "spoof_cm = cm_scores[cm_keys == 'spoof']\n",
    "\n",
    "\n",
    "# cm_keys = cm_data[:, 1]\n",
    "# cm_scores = cm_data[:, 2].astype(float)\n",
    "# bona_cm = cm_scores[cm_keys == 'bonafide']\n",
    "# spoof_cm = cm_scores[cm_keys == 'spoof']\n"
   ]
  },
  {
   "cell_type": "code",
   "execution_count": null,
   "metadata": {},
   "outputs": [],
   "source": [
    "cm_data"
   ]
  },
  {
   "cell_type": "code",
   "execution_count": null,
   "metadata": {},
   "outputs": [],
   "source": [
    "eer_cm, th = compute_eer(bona_cm, spoof_cm)\n",
    "print(eer_cm* 100)\n",
    "print(th)"
   ]
  },
  {
   "cell_type": "code",
   "execution_count": null,
   "metadata": {},
   "outputs": [],
   "source": [
    "import matplotlib.pyplot as plt"
   ]
  },
  {
   "cell_type": "code",
   "execution_count": null,
   "metadata": {},
   "outputs": [],
   "source": [
    "m,n = np.min(cm_scores), np.max(cm_scores)\n",
    "plt.figure()\n",
    "plt.hist(bona_cm,200)\n",
    "plt.hist(spoof_cm,200)\n",
    "plt.xlim([m,n])\n",
    "plt.show()"
   ]
  },
  {
   "cell_type": "code",
   "execution_count": null,
   "metadata": {},
   "outputs": [],
   "source": [
    "bona_cm[bona_cm<th].shape"
   ]
  },
  {
   "cell_type": "code",
   "execution_count": null,
   "metadata": {},
   "outputs": [],
   "source": [
    "spoof_cm[spoof_cm>th].shape"
   ]
  },
  {
   "cell_type": "code",
   "execution_count": null,
   "metadata": {},
   "outputs": [],
   "source": [
    "plt.figure()\n",
    "plt.subplot(211)\n",
    "plt.hist(bona_cm,200, color='blue')\n",
    "plt.xlim([m-1,n+1])\n",
    "plt.xlabel('Scores')\n",
    "plt.ylabel('Count')\n",
    "plt.subplot(212)\n",
    "plt.hist(spoof_cm,200, color='orange')\n",
    "plt.xlim([m-1,n+1])\n",
    "plt.xlabel('Scores')\n",
    "plt.ylabel('Count')\n",
    "plt.tight_layout()\n",
    "plt.show()"
   ]
  },
  {
   "cell_type": "code",
   "execution_count": null,
   "metadata": {},
   "outputs": [],
   "source": []
  },
  {
   "cell_type": "code",
   "execution_count": null,
   "metadata": {},
   "outputs": [],
   "source": [
    "eval_score_path = \"scores_output/eval_CM_scores_file_SSL_msFusion_hdim256_epoch51_mlaad_new.txt\"\n",
    "# eval_score_path = \"scores_output/asvspoof2019_trainset.txt\"\n",
    "eval_score_path = eval_score_path\n",
    "cm_data = np.genfromtxt(eval_score_path, dtype=str)\n",
    "# cm_utt_id = cm_data[:, 0]\n",
    "# cm_sources = cm_data[:, 1]\n",
    "\n",
    "cm_keys = cm_data[:, 1]\n",
    "cm_scores = cm_data[:, 2].astype(float)\n",
    "bona_cm = cm_scores[cm_keys == 'bonafide']\n",
    "spoof_cm = cm_scores[cm_keys == 'spoof']"
   ]
  },
  {
   "cell_type": "code",
   "execution_count": null,
   "metadata": {},
   "outputs": [],
   "source": [
    "m,n = np.min(cm_scores), np.max(cm_scores)\n",
    "plt.figure()\n",
    "plt.subplot(211)\n",
    "plt.hist(bona_cm,200, color='blue')\n",
    "plt.xlim([m-1,n+1])\n",
    "plt.xlabel(\"Scores\")\n",
    "plt.ylabel(\"Count\")\n",
    "plt.subplot(212)\n",
    "plt.hist(spoof_cm,200, color='orange')\n",
    "plt.xlim([m-1,n+1])\n",
    "plt.xlabel(\"Scores\")\n",
    "plt.ylabel(\"Count\")\n",
    "plt.show()"
   ]
  },
  {
   "cell_type": "code",
   "execution_count": null,
   "metadata": {},
   "outputs": [],
   "source": []
  },
  {
   "cell_type": "code",
   "execution_count": null,
   "metadata": {},
   "outputs": [],
   "source": [
    "# Load CM scores\n",
    "eval_score_path = \"scores_output/eval_CM_scores_file_SSL_msFusion_hdim256_combinedModel_epoch25_LA2019.txt\"\n",
    "# eval_score_path = \"scores_output/asvspoof2019_trainset.txt\"\n",
    "eval_score_path = eval_score_path\n",
    "cm_data = np.genfromtxt(eval_score_path, dtype=str)\n",
    "# cm_utt_id = cm_data[:, 0]\n",
    "# cm_sources = cm_data[:, 1]\n",
    "\n",
    "cm_keys = cm_data[:, 2]\n",
    "cm_scores = cm_data[:, 3].astype(float)\n",
    "bona_cm = cm_scores[cm_keys == 'bonafide']\n",
    "spoof_cm = cm_scores[cm_keys == 'spoof']\n",
    "\n",
    "\n",
    "m,n = np.min(cm_scores), np.max(cm_scores)\n",
    "plt.figure()\n",
    "plt.subplot(211)\n",
    "plt.hist(bona_cm,200, color='blue')\n",
    "plt.xlim([m-1,n+1])\n",
    "plt.xlabel(\"Scores\")\n",
    "plt.ylabel(\"Count\")\n",
    "plt.subplot(212)\n",
    "plt.hist(spoof_cm,200, color='orange')\n",
    "plt.xlim([m-1,n+1])\n",
    "plt.xlabel(\"Scores\")\n",
    "plt.ylabel(\"Count\")\n",
    "plt.tight_layout()\n",
    "plt.show()"
   ]
  },
  {
   "cell_type": "code",
   "execution_count": null,
   "metadata": {},
   "outputs": [],
   "source": []
  },
  {
   "cell_type": "code",
   "execution_count": null,
   "metadata": {},
   "outputs": [],
   "source": [
    "eval_score_path = \"scores_output/eval_CM_scores_file_SSL_msFusion_hdim256_combinedModel_epoch25_mlaad.txt\"\n",
    "# eval_score_path = \"scores_output/asvspoof2019_trainset.txt\"\n",
    "eval_score_path = eval_score_path\n",
    "cm_data = np.genfromtxt(eval_score_path, dtype=str)\n",
    "# cm_utt_id = cm_data[:, 0]\n",
    "# cm_sources = cm_data[:, 1]\n",
    "\n",
    "cm_keys = cm_data[:, 1]\n",
    "cm_scores = cm_data[:, 2].astype(float)\n",
    "bona_cm = cm_scores[cm_keys == 'bonafide']\n",
    "spoof_cm = cm_scores[cm_keys == 'spoof']\n",
    "\n",
    "m,n = np.min(cm_scores), np.max(cm_scores)\n",
    "plt.figure()\n",
    "plt.subplot(211)\n",
    "plt.hist(bona_cm,200, color='blue')\n",
    "plt.xlim([m-1,n+1])\n",
    "plt.xlabel(\"Scores\")\n",
    "plt.ylabel(\"Count\")\n",
    "plt.subplot(212)\n",
    "plt.hist(spoof_cm,200, color='orange')\n",
    "plt.xlim([m-1,n+1])\n",
    "plt.xlabel(\"Scores\")\n",
    "plt.ylabel(\"Count\")\n",
    "plt.show()"
   ]
  },
  {
   "cell_type": "code",
   "execution_count": null,
   "metadata": {},
   "outputs": [],
   "source": []
  }
 ],
 "metadata": {
  "kernelspec": {
   "display_name": "spoof",
   "language": "python",
   "name": "python3"
  },
  "language_info": {
   "codemirror_mode": {
    "name": "ipython",
    "version": 3
   },
   "file_extension": ".py",
   "mimetype": "text/x-python",
   "name": "python",
   "nbconvert_exporter": "python",
   "pygments_lexer": "ipython3",
   "version": "3.7.16"
  }
 },
 "nbformat": 4,
 "nbformat_minor": 2
}
